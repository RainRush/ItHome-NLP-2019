{
 "cells": [
  {
   "cell_type": "markdown",
   "metadata": {},
   "source": [
    "# Day 25: 猜字遊戲"
   ]
  },
  {
   "cell_type": "markdown",
   "metadata": {},
   "source": [
    "語言模型可以以字詞為單位作N-gram，也可以以字母為單位。為了讓大家對語言模型有個更清楚的理解，我們用英文猜字遊戲Hangman為範例來學習。"
   ]
  },
  {
   "cell_type": "markdown",
   "metadata": {},
   "source": [
    "## 猜字遊戲Hangman"
   ]
  },
  {
   "cell_type": "markdown",
   "metadata": {},
   "source": [
    "<a href=\"https://en.wikipedia.org/wiki/Hangman_(game)\">Hangman game</a>的玩法是透過一個人寫下一個字，讓另一個人來猜。對方一次會猜一個英文字母，猜對的話就把字母寫到正確的格子上，猜錯的話則會記錄下來。若是猜錯的次數達到一個數字，則猜字的一方輸。\n",
    "\n",
    "這裡我們先開發一個簡易版："
   ]
  },
  {
   "cell_type": "code",
   "execution_count": 1,
   "metadata": {},
   "outputs": [],
   "source": [
    "def hangman(secret_word, guesser, max_mistakes=8, verbose=True, **guesser_args):\n",
    "    \"\"\"\n",
    "        secret_word是將要被猜的字、guesser是我們之後會陸續寫進來的猜字模型（真人猜字或AI）、max_mistakes是最多可以錯誤的次數、\n",
    "        verbose為True時表示互動性猜字（AI猜字時可以改False）、guesser_args是一個keyword argument。\n",
    "    \"\"\"\n",
    "    secret_word = secret_word.lower()\n",
    "    mask = ['_'] * len(secret_word) # 把要被猜的字轉成暗文\n",
    "    guessed = set()\n",
    "    if verbose:\n",
    "        print(\"開始猜字遊戲，提示：\", ' '.join(mask), '長度為', len(secret_word))\n",
    "    \n",
    "    mistakes = 0\n",
    "    while mistakes < max_mistakes:\n",
    "        if verbose:\n",
    "            print(\"你還有\", (max_mistakes-mistakes), \"次機會。\")\n",
    "        guess = guesser(mask, guessed, **guesser_args)\n",
    "\n",
    "        if verbose:\n",
    "            print('你猜了：', guess)\n",
    "        if guess in guessed:\n",
    "            if verbose:\n",
    "                print('這個字母已經猜過了！')\n",
    "            mistakes += 1\n",
    "        else:\n",
    "            guessed.add(guess)\n",
    "            if guess in secret_word:\n",
    "                for i, c in enumerate(secret_word):\n",
    "                    if c == guess:\n",
    "                        mask[i] = c\n",
    "                if verbose:\n",
    "                    print('猜對了，', ' '.join(mask))\n",
    "            else:\n",
    "                if verbose:\n",
    "                    print('抱歉，再猜猜')\n",
    "                mistakes += 1\n",
    "                \n",
    "        if '_' not in mask:\n",
    "            if verbose:\n",
    "                print('恭喜你贏了！')\n",
    "            return mistakes\n",
    "        \n",
    "    if verbose:\n",
    "        print('沒有機會了，正確字是', secret_word)    \n",
    "    return mistakes"
   ]
  },
  {
   "cell_type": "markdown",
   "metadata": {},
   "source": [
    "這裡我們先寫一個人機互動猜字版："
   ]
  },
  {
   "cell_type": "code",
   "execution_count": 2,
   "metadata": {},
   "outputs": [],
   "source": [
    "def human(mask, guessed, **kwargs):\n",
    "    \"\"\"\n",
    "    可以手動遊玩\n",
    "    \"\"\"\n",
    "    print('請輸入你要猜的字：')\n",
    "    return input().lower().strip()\n",
    "\n",
    "interactive = True"
   ]
  },
  {
   "cell_type": "markdown",
   "metadata": {},
   "source": [
    "試玩遊戲："
   ]
  },
  {
   "cell_type": "code",
   "execution_count": 3,
   "metadata": {},
   "outputs": [
    {
     "name": "stdout",
     "output_type": "stream",
     "text": [
      "開始猜字遊戲，提示： _ _ _ _ _ _ _ _ _ 長度為 9\n",
      "你還有 2 次機會。\n",
      "請輸入你要猜的字：\n",
      "q\n",
      "你猜了： q\n",
      "抱歉，再猜猜\n",
      "你還有 1 次機會。\n",
      "請輸入你要猜的字：\n",
      "r\n",
      "你猜了： r\n",
      "猜對了， _ _ _ _ r _ _ _ _\n",
      "你還有 1 次機會。\n",
      "請輸入你要猜的字：\n",
      "i\n",
      "你猜了： i\n",
      "猜對了， _ _ _ _ r i _ _ _\n",
      "你還有 1 次機會。\n",
      "請輸入你要猜的字：\n",
      "p\n",
      "你猜了： p\n",
      "抱歉，再猜猜\n",
      "沒有機會了，正確字是 algorithm\n"
     ]
    }
   ],
   "source": [
    "if interactive:\n",
    "    hangman('algorithm', human, 8, True)"
   ]
  },
  {
   "cell_type": "markdown",
   "metadata": {},
   "source": [
    "## 準備訓練和測試集"
   ]
  },
  {
   "cell_type": "markdown",
   "metadata": {
    "collapsed": true
   },
   "source": [
    "開始寫我們的AI猜字之前，要先準備訓練集和測試集。從[這篇文章](http://datagenetics.com/blog/april12012/index.html)中可以看到，照著統計學來猜字是個不錯的做法，因此我們也自己來訓練一組模型，照著出現的頻率為順序進行猜字。\n",
    "\n",
    "我們使用之前用過的*Brown Corpus*來訓練AI猜字演算法，為了刻意增加猜字的難度，AI在測試時的字和訓練的字會是不一樣的(把訓練集和測試集拆開)，如此才能訓練出更通用的模型。\n",
    "\n",
    "我們使用 `nltk.corpus.Brown` 裡的 `words()` 方法，從中將非英文字母的文字去除，同時將每個字小寫化。之後，我們用 `numpy.random.shuffle` 來隨機刷取文集中的字，以分成訓練集和測試集。測試集裡有1000字，剩下的字都會到訓練集裡面。"
   ]
  },
  {
   "cell_type": "code",
   "execution_count": 4,
   "metadata": {},
   "outputs": [
    {
     "name": "stdout",
     "output_type": "stream",
     "text": [
      "40234\n",
      "1000\n",
      "39234\n"
     ]
    }
   ],
   "source": [
    "from nltk.corpus import brown\n",
    "import numpy as np\n",
    "\n",
    "np.random.seed(12345)\n",
    "\n",
    "# word_set 儲存Brown Corpus中所有獨特的字型\n",
    "word_set = []\n",
    "# test_set 儲存1000個字的測試集\n",
    "test_set = []\n",
    "# training_set 將剩下的字存到訓練集中\n",
    "training_set = []\n",
    "\n",
    "\n",
    "word_s = set([])\n",
    "\n",
    "for word in brown.words():\n",
    "    if word.isalpha():\n",
    "        word = word.lower()\n",
    "        if word not in word_s:\n",
    "            word_s.add(word)\n",
    "\n",
    "word_set = list(word_s)\n",
    "np.random.shuffle(word_set)\n",
    "\n",
    "test_set = word_set[:1000]\n",
    "training_set = word_set[1000:]\n",
    "\n",
    "print(len(word_set))\n",
    "print(len(test_set))\n",
    "print(len(training_set))"
   ]
  },
  {
   "cell_type": "markdown",
   "metadata": {},
   "source": [
    "這裡一來就不是一個人寫一個字讓對方猜了，而是電腦和人類的對決："
   ]
  },
  {
   "cell_type": "code",
   "execution_count": 5,
   "metadata": {},
   "outputs": [
    {
     "name": "stdout",
     "output_type": "stream",
     "text": [
      "開始猜字遊戲，提示： _ _ _ _ _ _ 長度為 6\n",
      "你還有 2 次機會。\n",
      "請輸入你要猜的字：\n",
      "q\n",
      "你猜了： q\n",
      "抱歉，再猜猜\n",
      "你還有 1 次機會。\n",
      "請輸入你要猜的字：\n",
      "z\n",
      "你猜了： z\n",
      "抱歉，再猜猜\n",
      "沒有機會了，正確字是 umpire\n"
     ]
    }
   ],
   "source": [
    "if interactive:\n",
    "    hangman(np.random.choice(test_set), human, 8, True)"
   ]
  },
  {
   "cell_type": "markdown",
   "metadata": {},
   "source": [
    "# Day 26 三種AI猜字方法"
   ]
  },
  {
   "cell_type": "markdown",
   "metadata": {},
   "source": [
    "## 第一種猜字方法：隨機猜字\n",
    "\n",
    "為了設下一個基準，我們先設計一種*AI*方法--每次從26個字母中隨機選取一個字母來猜。這裡我先將26個字母存到 `list` 中，再用 `numpy.random.choice` 隨機選取。\n",
    "\n",
    "`test_guesser` 是用來測試平均猜錯次數的方法。"
   ]
  },
  {
   "cell_type": "code",
   "execution_count": 9,
   "metadata": {},
   "outputs": [],
   "source": [
    "def test_guesser(guesser, test=test_set):\n",
    "    \"\"\"\n",
    "        這個方法是用來測試平均猜錯的次數。\n",
    "    \"\"\"\n",
    "    total = 0\n",
    "    for word in test:\n",
    "        total += hangman(word, guesser, 26, False)\n",
    "    return total / float(len(test))"
   ]
  },
  {
   "cell_type": "code",
   "execution_count": 10,
   "metadata": {
    "scrolled": true
   },
   "outputs": [
    {
     "name": "stdout",
     "output_type": "stream",
     "text": [
      "\n",
      "Average number of incorrect guesses:  16.675\n"
     ]
    }
   ],
   "source": [
    "import string\n",
    "\n",
    "def random_guesser(mask, guessed, **kwargs):\n",
    "    \"\"\"\n",
    "        隨機猜字\n",
    "    \"\"\"\n",
    "\n",
    "    alphabets = []\n",
    "    for letter in range(97,123):\n",
    "        if chr(letter) not in guessed:\n",
    "            alphabets.append(chr(letter))\n",
    "\n",
    "    picked = np.random.choice(alphabets)\n",
    "    return picked\n",
    "\n",
    "# 若要看看機器是怎麼猜字的，可以把下面這句打開\n",
    "#hangman(np.random.choice(test_set), random_guesser, 10, True)\n",
    "\n",
    "result = test_guesser(random_guesser)\n",
    "print()\n",
    "print(\"平均錯誤次數：\", result)"
   ]
  },
  {
   "cell_type": "markdown",
   "metadata": {},
   "source": [
    "## 第二種猜法：Unigram Guesser"
   ]
  },
  {
   "cell_type": "markdown",
   "metadata": {},
   "source": [
    "我們可以嘗試用*Unigram*模型來訓練。我們需要知道每個字母的出現頻率，接著照出現頻率的高低來進行猜字。每當猜完一個字之後就應該把猜過的字去掉。"
   ]
  },
  {
   "cell_type": "code",
   "execution_count": 11,
   "metadata": {},
   "outputs": [
    {
     "name": "stdout",
     "output_type": "stream",
     "text": [
      "Counter({'e': 35197, 'i': 26051, 'a': 24350, 's': 23745, 'n': 22604, 'r': 22069, 't': 20629, 'o': 19194, 'l': 16690, 'c': 12609, 'd': 12299, 'u': 10167, 'm': 8695, 'g': 8600, 'p': 8530, 'h': 7334, 'b': 5738, 'y': 5349, 'f': 4216, 'v': 3442, 'k': 2970, 'w': 2786, 'z': 1023, 'x': 836, 'j': 641, 'q': 529})\n",
      "\n",
      "平均猜錯次數： 10.55\n"
     ]
    }
   ],
   "source": [
    "from collections import Counter\n",
    "\n",
    "# unigram_counts 儲存了整個訓練及中每個字母的出現次數\n",
    "unigram_counts = Counter()\n",
    "\n",
    "for word in training_set:\n",
    "    for letter in word:\n",
    "        unigram_counts[letter] += 1\n",
    "\n",
    "print(unigram_counts)\n",
    "\n",
    "\n",
    "def unigram_guesser(mask, guessed, unigram_counts=unigram_counts):\n",
    "    \"\"\"\n",
    "        這個方法實作了Unigram Guesser，會根據Unigram Model每次回傳一個要猜的字。\n",
    "    \"\"\"\n",
    "    \n",
    "    unigram_keys = []\n",
    "\n",
    "    # 照出現頻率將字母排序\n",
    "    for i in range(len(unigram_counts)):\n",
    "        unigram_keys.append(unigram_counts.most_common()[i][0])\n",
    "\n",
    "    # 將猜過的字去除\n",
    "    for letter in guessed:\n",
    "        if letter in unigram_keys:\n",
    "            unigram_keys.remove(letter)\n",
    "\n",
    "    return unigram_keys[0]\n",
    "\n",
    "#hangman(np.random.choice(test_set), unigram_guesser, 10, True)\n",
    "\n",
    "result = test_guesser(unigram_guesser)\n",
    "print()\n",
    "print(\"平均猜錯次數：\", result)"
   ]
  },
  {
   "cell_type": "markdown",
   "metadata": {},
   "source": [
    "## 第三種猜法：根據文字長度猜字"
   ]
  },
  {
   "cell_type": "markdown",
   "metadata": {},
   "source": [
    "從和昨天[同一篇文章](http://datagenetics.com/blog/april12012/index.html)中我們看到，不同的文字長度，每個字母出現的頻率不盡相同，例如，短的字比較不會出現前綴或後綴。在這裡，我們針對不同的文字長度設計不一樣的猜字順序。"
   ]
  },
  {
   "cell_type": "code",
   "execution_count": 13,
   "metadata": {
    "scrolled": true
   },
   "outputs": [
    {
     "name": "stdout",
     "output_type": "stream",
     "text": [
      "defaultdict(<class 'collections.Counter'>, {11: Counter({'e': 2931, 'i': 2741, 'n': 2266, 't': 2148, 'a': 2014, 's': 1983, 'r': 1918, 'o': 1707, 'l': 1320, 'c': 1224, 'u': 849, 'd': 798, 'p': 776, 'm': 739, 'g': 634, 'h': 520, 'b': 418, 'y': 413, 'f': 298, 'v': 289, 'k': 134, 'w': 123, 'x': 73, 'z': 69, 'q': 44, 'j': 26}), 6: Counter({'e': 4254, 'a': 2687, 's': 2609, 'r': 2529, 'i': 2036, 'n': 1990, 'o': 1979, 'l': 1951, 't': 1859, 'd': 1636, 'u': 1140, 'c': 1058, 'm': 941, 'g': 883, 'h': 874, 'p': 842, 'b': 784, 'y': 704, 'f': 495, 'k': 451, 'w': 430, 'v': 396, 'z': 125, 'j': 107, 'x': 94, 'q': 50}), 10: Counter({'e': 4325, 'i': 3624, 'n': 3068, 's': 2906, 't': 2792, 'a': 2774, 'r': 2659, 'o': 2377, 'l': 1935, 'c': 1670, 'd': 1398, 'u': 1292, 'g': 1094, 'p': 1071, 'm': 1054, 'h': 821, 'b': 613, 'y': 551, 'f': 460, 'v': 446, 'w': 207, 'k': 176, 'z': 109, 'x': 96, 'q': 67, 'j': 55}), 8: Counter({'e': 5633, 'i': 3905, 's': 3703, 'a': 3682, 'n': 3515, 'r': 3500, 't': 2904, 'o': 2787, 'l': 2626, 'd': 2241, 'c': 1947, 'u': 1584, 'g': 1521, 'm': 1304, 'p': 1237, 'h': 1158, 'b': 851, 'y': 716, 'f': 715, 'v': 549, 'k': 512, 'w': 474, 'z': 115, 'x': 109, 'q': 84, 'j': 84}), 5: Counter({'e': 2211, 'a': 1821, 's': 1821, 'r': 1362, 'o': 1319, 'l': 1199, 'i': 1165, 't': 1086, 'n': 1036, 'd': 780, 'c': 704, 'u': 672, 'h': 582, 'm': 578, 'y': 546, 'p': 529, 'b': 503, 'g': 459, 'k': 375, 'f': 343, 'w': 300, 'v': 234, 'z': 84, 'j': 80, 'x': 67, 'q': 29}), 13: Counter({'i': 1283, 'e': 1043, 'n': 1025, 't': 968, 'a': 907, 'o': 831, 's': 799, 'r': 742, 'c': 563, 'l': 540, 'p': 359, 'm': 351, 'u': 331, 'd': 260, 'g': 239, 'h': 204, 'y': 201, 'b': 141, 'v': 117, 'f': 113, 'z': 35, 'x': 35, 'k': 28, 'w': 23, 'q': 19, 'j': 10}), 3: Counter({'a': 237, 'e': 195, 'o': 177, 'i': 128, 'n': 117, 't': 112, 's': 108, 'p': 102, 'm': 99, 'r': 97, 'd': 97, 'u': 95, 'b': 89, 'l': 77, 'g': 77, 'h': 77, 'y': 76, 'w': 72, 'c': 69, 'f': 52, 'k': 32, 'j': 27, 'v': 25, 'x': 22, 'z': 10, 'q': 5}), 9: Counter({'e': 5415, 'i': 3945, 'n': 3465, 's': 3461, 'a': 3449, 'r': 3264, 't': 3050, 'o': 2635, 'l': 2339, 'c': 1926, 'd': 1872, 'u': 1445, 'g': 1368, 'm': 1246, 'p': 1154, 'h': 1026, 'b': 758, 'y': 655, 'f': 588, 'v': 535, 'k': 373, 'w': 368, 'z': 131, 'x': 124, 'q': 90, 'j': 66}), 7: Counter({'e': 5320, 'a': 3550, 's': 3478, 'r': 3407, 'i': 3341, 'n': 3049, 't': 2666, 'o': 2517, 'l': 2500, 'd': 2053, 'c': 1672, 'u': 1508, 'g': 1499, 'm': 1233, 'p': 1228, 'h': 1107, 'b': 944, 'y': 744, 'f': 670, 'k': 579, 'w': 525, 'v': 462, 'z': 154, 'x': 109, 'j': 96, 'q': 81}), 4: Counter({'e': 901, 'a': 865, 's': 697, 'o': 687, 'l': 549, 'i': 535, 'r': 517, 't': 492, 'n': 472, 'd': 357, 'u': 347, 'm': 297, 'h': 291, 'p': 284, 'b': 261, 'c': 261, 'k': 223, 'g': 219, 'w': 189, 'y': 176, 'f': 169, 'v': 96, 'j': 62, 'z': 45, 'x': 36, 'q': 8}), 15: Counter({'i': 399, 't': 285, 'n': 272, 'o': 253, 'e': 246, 'a': 237, 's': 210, 'r': 202, 'c': 167, 'l': 167, 'p': 110, 'y': 79, 'u': 75, 'm': 73, 'd': 70, 'h': 69, 'g': 51, 'f': 24, 'b': 24, 'v': 20, 'z': 18, 'k': 8, 'x': 7, 'q': 4, 'w': 4, 'j': 1}), 12: Counter({'e': 1896, 'i': 1887, 'n': 1538, 't': 1453, 'a': 1411, 's': 1308, 'r': 1259, 'o': 1220, 'l': 968, 'c': 894, 'u': 580, 'p': 552, 'm': 522, 'd': 508, 'g': 391, 'h': 382, 'y': 298, 'b': 255, 'f': 197, 'v': 190, 'z': 68, 'k': 54, 'w': 53, 'x': 40, 'q': 35, 'j': 17}), 16: Counter({'i': 171, 't': 134, 'a': 111, 'n': 111, 'e': 108, 'o': 105, 'r': 95, 'l': 91, 's': 89, 'c': 64, 'p': 46, 'h': 36, 'm': 35, 'y': 33, 'u': 32, 'd': 27, 'g': 22, 'b': 11, 'f': 10, 'z': 10, 'x': 6, 'v': 6, 'k': 4, 'q': 2, 'w': 1}), 14: Counter({'i': 708, 'e': 574, 'n': 550, 't': 523, 'a': 465, 'o': 461, 's': 460, 'r': 398, 'l': 334, 'c': 304, 'p': 180, 'u': 171, 'm': 162, 'd': 151, 'h': 130, 'y': 117, 'g': 114, 'b': 69, 'v': 64, 'f': 62, 'z': 34, 'x': 13, 'k': 11, 'w': 10, 'q': 8, 'j': 3}), 1: Counter({'r': 1, 'e': 1, 't': 1, 'y': 1, 'p': 1, 'm': 1, 'z': 1, 'f': 1, 'n': 1, 'l': 1, 'c': 1, 'k': 1, 'd': 1, 'o': 1, 'g': 1, 'i': 1, 'h': 1, 'v': 1, 'b': 1, 'q': 1, 'w': 1, 'x': 1, 'j': 1, 'u': 1, 's': 1, 'a': 1}), 17: Counter({'i': 95, 't': 82, 'a': 72, 'e': 71, 'n': 68, 'r': 64, 'o': 59, 's': 45, 'l': 43, 'c': 39, 'p': 27, 'm': 26, 'h': 26, 'd': 24, 'y': 20, 'u': 18, 'g': 12, 'z': 9, 'b': 5, 'v': 4, 'f': 3, 'j': 1, 'k': 1, 'x': 1, 'w': 1}), 2: Counter({'a': 24, 'e': 21, 's': 19, 'm': 19, 'o': 19, 'i': 16, 'l': 13, 'p': 12, 'h': 12, 'n': 11, 'c': 11, 't': 11, 'u': 11, 'd': 11, 'f': 9, 'r': 9, 'b': 8, 'v': 7, 'g': 6, 'y': 6, 'w': 5, 'k': 5, 'j': 5, 'x': 3, 'q': 2, 'z': 1}), 20: Counter({'i': 5, 't': 4, 'n': 3, 'o': 2, 'a': 2, 's': 1, 'u': 1, 'l': 1, 'z': 1}), 19: Counter({'o': 18, 'i': 15, 'n': 14, 't': 13, 'a': 11, 'r': 9, 'e': 8, 'c': 7, 's': 7, 'l': 7, 'u': 5, 'p': 3, 'd': 3, 'm': 3, 'g': 3, 'h': 2, 'z': 2, 'f': 2, 'y': 1}), 21: Counter({'o': 6, 'c': 4, 'i': 3, 'm': 3, 'e': 3, 'l': 3, 'r': 3, 'p': 3, 'h': 3, 's': 3, 'a': 3, 'u': 1, 'n': 1, 't': 1, 'y': 1, 'g': 1}), 18: Counter({'i': 48, 't': 44, 'e': 37, 's': 35, 'r': 34, 'o': 33, 'n': 29, 'a': 25, 'c': 24, 'l': 23, 'p': 14, 'h': 13, 'd': 12, 'y': 10, 'm': 9, 'u': 8, 'g': 6, 'f': 4, 'b': 2, 'k': 2, 'z': 1, 'v': 1}), 22: Counter({'e': 4, 'l': 3, 'n': 3, 'a': 2, 's': 2, 'k': 1, 'y': 1, 'b': 1, 'z': 1, 'u': 1, 'f': 1, 'o': 1, 't': 1})})\n",
      "\n",
      "平均猜錯次數： 10.457\n"
     ]
    }
   ],
   "source": [
    "from collections import defaultdict\n",
    "\n",
    "# unigram_counts_by_length 將文字長度和字母頻率map在一起\n",
    "unigram_counts_by_length = defaultdict(Counter)\n",
    "\n",
    "# 幫每一種文字長度寫不同的Unigram Model\n",
    "for word in training_set:    \n",
    "    this_count = Counter()\n",
    "    for letter in word:\n",
    "        this_count[letter] += 1\n",
    "        unigram_counts_by_length[len(word)] += this_count\n",
    "        this_count = Counter()\n",
    "\n",
    "        \n",
    "def exclude_guessed_letters(length_model, guessed):\n",
    "    unigram_keys_by_length = []\n",
    "    # 照出現頻率將字母排序\n",
    "    for i in range(len(unigram_counts_by_length[length_model])):\n",
    "        unigram_keys_by_length.append(unigram_counts_by_length[length_model].most_common()[i][0])\n",
    "    \n",
    "    # 將猜過的字去除\n",
    "    for letter in guessed:\n",
    "        if letter in unigram_keys_by_length:\n",
    "            unigram_keys_by_length.remove(letter)\n",
    "    \n",
    "    return unigram_keys_by_length\n",
    "\n",
    "\n",
    "lengths = sorted(unigram_counts_by_length.keys())\n",
    "max_length = lengths[-1] + 1\n",
    "\n",
    "print(unigram_counts_by_length)\n",
    "\n",
    "def unigram_length_guesser(mask, guessed, counts=unigram_counts_by_length):\n",
    "    \n",
    "    length_model = len(mask)\n",
    "    # 若要猜的文字長度不在unigram model時，我們將一長度來猜。\n",
    "    while length_model not in lengths:\n",
    "        length_model -= 1\n",
    "    \n",
    "    unigram_keys_by_length = exclude_guessed_letters(length_model, guessed)\n",
    "    \n",
    "    # 若這個文字長度沒有猜字選項了，從附近的文字長度找\n",
    "    while len(unigram_keys_by_length) == 0:\n",
    "        if length_model < 20:\n",
    "            length_model += 1\n",
    "        else:\n",
    "            length_model -= 1\n",
    "        unigram_keys_by_length = exclude_guessed_letters(length_model, guessed)\n",
    "    \n",
    "    return unigram_keys_by_length[0]\n",
    "\n",
    "\n",
    "#hangman(np.random.choice(test_set), unigram_length_guesser, 10, True)\n",
    "\n",
    "result = test_guesser(unigram_length_guesser)\n",
    "print()\n",
    "print(\"平均猜錯次數：\", result)"
   ]
  },
  {
   "cell_type": "code",
   "execution_count": null,
   "metadata": {},
   "outputs": [],
   "source": []
  }
 ],
 "metadata": {
  "anaconda-cloud": {},
  "kernelspec": {
   "display_name": "Python 3",
   "language": "python",
   "name": "python3"
  },
  "language_info": {
   "codemirror_mode": {
    "name": "ipython",
    "version": 3
   },
   "file_extension": ".py",
   "mimetype": "text/x-python",
   "name": "python",
   "nbconvert_exporter": "python",
   "pygments_lexer": "ipython3",
   "version": "3.6.0"
  }
 },
 "nbformat": 4,
 "nbformat_minor": 1
}
