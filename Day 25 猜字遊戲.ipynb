{
 "cells": [
  {
   "cell_type": "markdown",
   "metadata": {},
   "source": [
    "# Day 25: 猜字遊戲"
   ]
  },
  {
   "cell_type": "markdown",
   "metadata": {},
   "source": [
    "語言模型可以以字詞為單位作N-gram，也可以以字母為單位。為了讓大家對語言模型有個更清楚的理解，我們用英文猜字遊戲Hangman為範例來學習。"
   ]
  },
  {
   "cell_type": "markdown",
   "metadata": {},
   "source": [
    "## 猜字遊戲Hangman"
   ]
  },
  {
   "cell_type": "markdown",
   "metadata": {},
   "source": [
    "<a href=\"https://en.wikipedia.org/wiki/Hangman_(game)\">Hangman game</a>的玩法是透過一個人寫下一個字，讓另一個人來猜。對方一次會猜一個英文字母，猜對的話就把字母寫到正確的格子上，猜錯的話則會記錄下來。若是猜錯的次數達到一個數字，則猜字的一方輸。\n",
    "\n",
    "這裡我們先開發一個簡單版："
   ]
  },
  {
   "cell_type": "code",
   "execution_count": 1,
   "metadata": {},
   "outputs": [],
   "source": [
    "def hangman(secret_word, guesser, max_mistakes=8, verbose=True, **guesser_args):\n",
    "    \"\"\"\n",
    "        secret_word是將要被猜的字、guesser是我們之後會陸續寫進來的猜字模型（真人猜字或AI）、max_mistakes是最多可以錯誤的次數、\n",
    "        verbose為True時表示互動性猜字（AI猜字時可以改False）、guesser_args是一個keyword argument。\n",
    "    \"\"\"\n",
    "    secret_word = secret_word.lower()\n",
    "    mask = ['_'] * len(secret_word) # 把要被猜的字轉成暗文\n",
    "    guessed = set()\n",
    "    if verbose:\n",
    "        print(\"開始猜字遊戲，提示：\", ' '.join(mask), '長度為', len(secret_word))\n",
    "    \n",
    "    mistakes = 0\n",
    "    while mistakes < max_mistakes:\n",
    "        if verbose:\n",
    "            print(\"你還有\", (max_mistakes-mistakes), \"次機會。\")\n",
    "        guess = guesser(mask, guessed, **guesser_args)\n",
    "\n",
    "        if verbose:\n",
    "            print('你猜了：', guess)\n",
    "        if guess in guessed:\n",
    "            if verbose:\n",
    "                print('這個字母已經猜過了！')\n",
    "            mistakes += 1\n",
    "        else:\n",
    "            guessed.add(guess)\n",
    "            if guess in secret_word:\n",
    "                for i, c in enumerate(secret_word):\n",
    "                    if c == guess:\n",
    "                        mask[i] = c\n",
    "                if verbose:\n",
    "                    print('猜對了，', ' '.join(mask))\n",
    "            else:\n",
    "                if verbose:\n",
    "                    print('抱歉，再猜猜')\n",
    "                mistakes += 1\n",
    "                \n",
    "        if '_' not in mask:\n",
    "            if verbose:\n",
    "                print('恭喜你贏了！')\n",
    "            return mistakes\n",
    "        \n",
    "    if verbose:\n",
    "        print('沒有機會了，正確字是', secret_word)    \n",
    "    return mistakes"
   ]
  },
  {
   "cell_type": "markdown",
   "metadata": {},
   "source": [
    "這裡我們先寫一個人機互動猜字版："
   ]
  },
  {
   "cell_type": "code",
   "execution_count": 2,
   "metadata": {},
   "outputs": [],
   "source": [
    "def human(mask, guessed, **kwargs):\n",
    "    \"\"\"\n",
    "    可以手動遊玩\n",
    "    \"\"\"\n",
    "    print('請輸入你要猜的字：')\n",
    "    return input().lower().strip()\n",
    "\n",
    "interactive = True"
   ]
  },
  {
   "cell_type": "markdown",
   "metadata": {},
   "source": [
    "You can play the game interactively using the following command:"
   ]
  },
  {
   "cell_type": "code",
   "execution_count": 3,
   "metadata": {},
   "outputs": [
    {
     "name": "stdout",
     "output_type": "stream",
     "text": [
      "開始猜字遊戲，提示： _ _ _ _ _ _ _ _ _ 長度為 9\n",
      "你還有 2 次機會。\n",
      "請輸入你要猜的字：\n",
      "a\n",
      "你猜了： a\n",
      "猜對了， a _ _ _ _ _ _ _ _\n",
      "你還有 2 次機會。\n",
      "請輸入你要猜的字：\n",
      "e\n",
      "你猜了： e\n",
      "抱歉，再猜猜\n",
      "你還有 1 次機會。\n",
      "請輸入你要猜的字：\n",
      "l\n",
      "你猜了： l\n",
      "猜對了， a l _ _ _ _ _ _ _\n",
      "你還有 1 次機會。\n",
      "請輸入你要猜的字：\n",
      "g\n",
      "你猜了： g\n",
      "猜對了， a l g _ _ _ _ _ _\n",
      "你還有 1 次機會。\n",
      "請輸入你要猜的字：\n",
      "o\n",
      "你猜了： o\n",
      "猜對了， a l g o _ _ _ _ _\n",
      "你還有 1 次機會。\n",
      "請輸入你要猜的字：\n",
      "m\n",
      "你猜了： m\n",
      "猜對了， a l g o _ _ _ _ m\n",
      "你還有 1 次機會。\n",
      "請輸入你要猜的字：\n",
      "u\n",
      "你猜了： u\n",
      "抱歉，再猜猜\n",
      "沒有機會了，正確字是 algorithm\n"
     ]
    }
   ],
   "source": [
    "if interactive:\n",
    "    hangman('algorithm', human, 2, True)"
   ]
  },
  {
   "cell_type": "code",
   "execution_count": null,
   "metadata": {},
   "outputs": [],
   "source": []
  }
 ],
 "metadata": {
  "anaconda-cloud": {},
  "kernelspec": {
   "display_name": "Python 3",
   "language": "python",
   "name": "python3"
  },
  "language_info": {
   "codemirror_mode": {
    "name": "ipython",
    "version": 3
   },
   "file_extension": ".py",
   "mimetype": "text/x-python",
   "name": "python",
   "nbconvert_exporter": "python",
   "pygments_lexer": "ipython3",
   "version": "3.6.0"
  }
 },
 "nbformat": 4,
 "nbformat_minor": 1
}
